{
 "cells": [
  {
   "attachments": {},
   "cell_type": "markdown",
   "metadata": {},
   "source": [
    "# Transformer Implementation \n",
    "### Attention is All You Need\n",
    "References\n",
    "* https://cpm0722.github.io/pytorch-implementation/transformer \n",
    "* https://paul-hyun.github.io/transformer-01/ "
   ]
  },
  {
   "cell_type": "code",
   "execution_count": 1,
   "metadata": {},
   "outputs": [],
   "source": [
    "import pandas as pd \n",
    "import numpy as np \n",
    "import math \n",
    "import matplotlib.pyplot as plt \n",
    "\n",
    "import torch \n",
    "import torch.nn as nn \n",
    "import torch.nn.functional as F "
   ]
  },
  {
   "cell_type": "code",
   "execution_count": 2,
   "metadata": {},
   "outputs": [],
   "source": [
    "class Transformer(nn.Module): \n",
    "    def __init__(self, encoder, decoder):\n",
    "        super(Transformer, self).__init__()\n",
    "        self.encoder = encoder \n",
    "        self.decoder = decoder \n",
    "        \n",
    "    def encode(self, x):\n",
    "        out = self.encoder(x)\n",
    "        return out \n",
    "    \n",
    "    def decode(self ,z, c): \n",
    "        out = self.decode(z, c)\n",
    "        return out \n",
    "    \n",
    "    def forward(self, x, z): \n",
    "        c = self.encode(x)\n",
    "        y = self.decode(z, c)\n",
    "        \n",
    "        return y \n"
   ]
  },
  {
   "cell_type": "code",
   "execution_count": null,
   "metadata": {},
   "outputs": [],
   "source": []
  }
 ],
 "metadata": {
  "kernelspec": {
   "display_name": "Python 3",
   "language": "python",
   "name": "python3"
  },
  "language_info": {
   "codemirror_mode": {
    "name": "ipython",
    "version": 3
   },
   "file_extension": ".py",
   "mimetype": "text/x-python",
   "name": "python",
   "nbconvert_exporter": "python",
   "pygments_lexer": "ipython3",
   "version": "3.10.10"
  },
  "orig_nbformat": 4
 },
 "nbformat": 4,
 "nbformat_minor": 2
}
